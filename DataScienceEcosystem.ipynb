{
 "cells": [
  {
   "cell_type": "markdown",
   "id": "a81f3d81-00d7-4fb6-b780-9aec98e60d0f",
   "metadata": {},
   "source": [
    "# Data Science Tools and Ecosystem"
   ]
  },
  {
   "cell_type": "markdown",
   "id": "34c4327c-60ab-4539-98a3-8f0a210a94be",
   "metadata": {},
   "source": [
    "In this notebook, Data Science Tools and Ecosystem are summarized."
   ]
  },
  {
   "cell_type": "markdown",
   "id": "fc046d35-cff8-4171-a96e-cc4bc482a204",
   "metadata": {},
   "source": [
    "__Objectives__ :\n",
    "* List Data Science Tools\n",
    "* List Languages used in Data Science\n",
    "* Test some arithmetic expressions"
   ]
  },
  {
   "cell_type": "markdown",
   "id": "ffe0e041-2c25-44e2-a6fe-a1b6afc94f78",
   "metadata": {},
   "source": [
    "Some of the populer languages that Data Scientists use are :\n",
    "1. R\n",
    "2. Python\n",
    "3. Julia"
   ]
  },
  {
   "cell_type": "markdown",
   "id": "f9d34ae7-17bf-4039-8e15-6db6892ec5cd",
   "metadata": {},
   "source": [
    "Some of the commonly used libraries used by Data Scientists include:\n",
    "1. Pandas\n",
    "2. NumPy\n",
    "3. Scikit-learn"
   ]
  },
  {
   "cell_type": "markdown",
   "id": "939289c0-89d3-4a3b-9097-a5a326723e66",
   "metadata": {},
   "source": [
    "|Data Science Tools|\n",
    "|----------------------|\n",
    "|Jupyter|\n",
    "|RStudio|\n",
    "|Spyder|\n"
   ]
  },
  {
   "cell_type": "markdown",
   "id": "889c38f9-912a-47bf-9455-3838ee16b55d",
   "metadata": {},
   "source": [
    "### Below are a few examples of evaluating arithmetic expressions in Python"
   ]
  },
  {
   "cell_type": "markdown",
   "id": "32eeea3d-e8e8-4c00-a432-66ab6d751551",
   "metadata": {},
   "source": [
    "This a simple arithmetic expression to pultiply then add integers"
   ]
  },
  {
   "cell_type": "code",
   "execution_count": 1,
   "id": "60dfc2a6-0b0e-4d71-b985-8495d47cfb4a",
   "metadata": {},
   "outputs": [
    {
     "data": {
      "text/plain": [
       "17"
      ]
     },
     "execution_count": 1,
     "metadata": {},
     "output_type": "execute_result"
    }
   ],
   "source": [
    "(3*4)+5"
   ]
  },
  {
   "cell_type": "markdown",
   "id": "720ba612-ec8d-4087-9a97-03a49cbe03ce",
   "metadata": {},
   "source": [
    "This will convert 200 minutes to hours by dividing by 60"
   ]
  },
  {
   "cell_type": "code",
   "execution_count": 2,
   "id": "a7573ed6-5e98-4c55-99f9-01d50c441ce0",
   "metadata": {},
   "outputs": [
    {
     "data": {
      "text/plain": [
       "3.3333333333333335"
      ]
     },
     "execution_count": 2,
     "metadata": {},
     "output_type": "execute_result"
    }
   ],
   "source": [
    "200/60"
   ]
  },
  {
   "cell_type": "markdown",
   "id": "3aa10edd-0eb2-4423-b7df-4f17677fe7eb",
   "metadata": {},
   "source": [
    "## Author\n",
    "Yoann Poupinet"
   ]
  },
  {
   "cell_type": "code",
   "execution_count": null,
   "id": "375a5313-e34f-442f-a83a-661b25d14c50",
   "metadata": {},
   "outputs": [],
   "source": []
  }
 ],
 "metadata": {
  "kernelspec": {
   "display_name": "Python 3 (ipykernel)",
   "language": "python",
   "name": "python3"
  },
  "language_info": {
   "codemirror_mode": {
    "name": "ipython",
    "version": 3
   },
   "file_extension": ".py",
   "mimetype": "text/x-python",
   "name": "python",
   "nbconvert_exporter": "python",
   "pygments_lexer": "ipython3",
   "version": "3.12.2"
  }
 },
 "nbformat": 4,
 "nbformat_minor": 5
}
